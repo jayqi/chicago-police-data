{
 "cells": [
  {
   "cell_type": "code",
   "execution_count": 1,
   "metadata": {
    "collapsed": true
   },
   "outputs": [],
   "source": [
    "import pandas as pd"
   ]
  },
  {
   "cell_type": "code",
   "execution_count": 3,
   "metadata": {
    "collapsed": false
   },
   "outputs": [
    {
     "name": "stdout",
     "output_type": "stream",
     "text": [
      "(24501, 50)\n",
      "SOURCE                          object\n",
      "FILEYR                           int64\n",
      "CR_REQUIRED                     object\n",
      "INITIAL_CATEGORY_CODE           object\n",
      "INITIAL_CATEGORY                object\n",
      "CURRENT_CATEGORY_CODE           object\n",
      "CURRENT_CATEGORY                object\n",
      "CURRENT_STATUS                  object\n",
      "Complaint_Number                 int64\n",
      "Beat                           float64\n",
      "Street                          object\n",
      "Address                        float64\n",
      "LOCATION_CODE                   object\n",
      "Incident_Time_Start             object\n",
      "Incident_Time_End               object\n",
      "COMPLAINT_DATE                  object\n",
      "CLOSEDATIPRA_DATETIME           object\n",
      "IPRA_Investigator_LastName      object\n",
      "IPRA_Investigator_FirstName     object\n",
      "IPRA_Assign_Date_Time           object\n",
      "IPRA_Investigate_Begin_Date    float64\n",
      "IPRA_Investigate_End_Date       object\n",
      "IPRA_Investigator_Type          object\n",
      "Report_Status                   object\n",
      "FINDING_CODE                    object\n",
      "FINDING_ID                     float64\n",
      "PENALTY_CODE                    object\n",
      "NO_OF_DAYS                     float64\n",
      "Penalty_Status                  object\n",
      "Accused_FName                   object\n",
      "Accused_LName                   object\n",
      "Accused_Star_No                float64\n",
      "Accused_Assignment             float64\n",
      "Accused_Detail                 float64\n",
      "Accused_Appointment_Date       float64\n",
      "Accused_Position                object\n",
      "IAD_OPS                         object\n",
      "CONVERTED_REC_I                 object\n",
      "Invovled_Party_Description      object\n",
      "Invovled_Party_Type             object\n",
      "Invovled_Party_LName            object\n",
      "Invovled_Party_FName            object\n",
      "Invovled_Party_Assignment      float64\n",
      "Invovled_Party_Detail          float64\n",
      "Invovled_Party_Position         object\n",
      "Invovled_Party_Age             float64\n",
      "Invovled_Party_Sex              object\n",
      "Invovled_Party_Race             object\n",
      "POLICE_SHOOTING_NO              object\n",
      "POLICE_SHOOTING                 object\n",
      "dtype: object\n"
     ]
    },
    {
     "name": "stderr",
     "output_type": "stream",
     "text": [
      "/Users/Jay/miniconda3/lib/python3.5/site-packages/IPython/core/interactiveshell.py:2723: DtypeWarning: Columns (24,26,28,29,30,35) have mixed types. Specify dtype option on import or set low_memory=False.\n",
      "  interactivity=interactivity, compiler=compiler, result=result)\n"
     ]
    }
   ],
   "source": [
    "df = pd.read_csv('dat_may2016.csv')\n",
    "print(df.shape)\n",
    "print(df.dtypes)"
   ]
  },
  {
   "cell_type": "code",
   "execution_count": 14,
   "metadata": {
    "collapsed": false
   },
   "outputs": [
    {
     "data": {
      "text/plain": [
       "SOURCE                                                      2016-MAY\n",
       "FILEYR                                                          2016\n",
       "CR_REQUIRED                                                       No\n",
       "INITIAL_CATEGORY_CODE                                            NaN\n",
       "INITIAL_CATEGORY                                                 NaN\n",
       "CURRENT_CATEGORY_CODE                                            18A\n",
       "CURRENT_CATEGORY               FIREARM DISCHARGE WITH HITS / ON DUTY\n",
       "CURRENT_STATUS                                 PENDING INVESTIGATION\n",
       "Complaint_Number                                             1079080\n",
       "Beat                                                             735\n",
       "Street                                                    PAULINA ST\n",
       "Address                                                         7305\n",
       "LOCATION_CODE                                              RESIDENCE\n",
       "Incident_Time_Start                                        1/31/2016\n",
       "Incident_Time_End                                          1/31/2016\n",
       "COMPLAINT_DATE                                             1/31/2016\n",
       "CLOSEDATIPRA_DATETIME                                            NaN\n",
       "IPRA_Investigator_LastName                                      HUNT\n",
       "IPRA_Investigator_FirstName                                   JOSHUA\n",
       "IPRA_Assign_Date_Time                                       2/1/2016\n",
       "IPRA_Investigate_Begin_Date                                      NaN\n",
       "IPRA_Investigate_End_Date                                  4/19/2016\n",
       "IPRA_Investigator_Type                                             S\n",
       "Report_Status                                                Pending\n",
       "FINDING_CODE                                                     NaN\n",
       "FINDING_ID                                                       NaN\n",
       "PENALTY_CODE                                                     NaN\n",
       "NO_OF_DAYS                                                       NaN\n",
       "Penalty_Status                                                   NaN\n",
       "Accused_FName                                                    NaN\n",
       "Accused_LName                                                    NaN\n",
       "Accused_Star_No                                                  NaN\n",
       "Accused_Assignment                                               NaN\n",
       "Accused_Detail                                                   NaN\n",
       "Accused_Appointment_Date                                         NaN\n",
       "Accused_Position                                                 NaN\n",
       "IAD_OPS                                                            O\n",
       "CONVERTED_REC_I                                                   No\n",
       "Invovled_Party_Description                                       NaN\n",
       "Invovled_Party_Type                                           Inmate\n",
       "Invovled_Party_LName                                           GOMEZ\n",
       "Invovled_Party_FName                                         ARNULFO\n",
       "Invovled_Party_Assignment                                          7\n",
       "Invovled_Party_Detail                                            NaN\n",
       "Invovled_Party_Position                               POLICE OFFICER\n",
       "Invovled_Party_Age                                               NaN\n",
       "Invovled_Party_Sex                                              MALE\n",
       "Invovled_Party_Race                                   WHITE HISPANIC\n",
       "POLICE_SHOOTING_NO                                             16-01\n",
       "POLICE_SHOOTING                                                  Yes\n",
       "Accused-FullName                                             nan nan\n",
       "Name: 1, dtype: object"
      ]
     },
     "execution_count": 14,
     "metadata": {},
     "output_type": "execute_result"
    }
   ],
   "source": [
    "df.ix[1]"
   ]
  },
  {
   "cell_type": "code",
   "execution_count": 13,
   "metadata": {
    "collapsed": false
   },
   "outputs": [
    {
     "data": {
      "text/html": [
       "<div>\n",
       "<table border=\"1\" class=\"dataframe\">\n",
       "  <thead>\n",
       "    <tr style=\"text-align: right;\">\n",
       "      <th></th>\n",
       "      <th>SOURCE</th>\n",
       "      <th>FILEYR</th>\n",
       "      <th>CR_REQUIRED</th>\n",
       "      <th>INITIAL_CATEGORY_CODE</th>\n",
       "      <th>INITIAL_CATEGORY</th>\n",
       "      <th>CURRENT_CATEGORY_CODE</th>\n",
       "      <th>CURRENT_CATEGORY</th>\n",
       "      <th>CURRENT_STATUS</th>\n",
       "      <th>Complaint_Number</th>\n",
       "      <th>Beat</th>\n",
       "      <th>...</th>\n",
       "      <th>Invovled_Party_FName</th>\n",
       "      <th>Invovled_Party_Assignment</th>\n",
       "      <th>Invovled_Party_Detail</th>\n",
       "      <th>Invovled_Party_Position</th>\n",
       "      <th>Invovled_Party_Age</th>\n",
       "      <th>Invovled_Party_Sex</th>\n",
       "      <th>Invovled_Party_Race</th>\n",
       "      <th>POLICE_SHOOTING_NO</th>\n",
       "      <th>POLICE_SHOOTING</th>\n",
       "      <th>Accused-FullName</th>\n",
       "    </tr>\n",
       "  </thead>\n",
       "  <tbody>\n",
       "    <tr>\n",
       "      <th>0</th>\n",
       "      <td>2016-MAY</td>\n",
       "      <td>2016</td>\n",
       "      <td>No</td>\n",
       "      <td>NaN</td>\n",
       "      <td>NaN</td>\n",
       "      <td>18A</td>\n",
       "      <td>FIREARM DISCHARGE WITH HITS / ON DUTY</td>\n",
       "      <td>PENDING INVESTIGATION</td>\n",
       "      <td>1079080</td>\n",
       "      <td>735.0</td>\n",
       "      <td>...</td>\n",
       "      <td>DANA</td>\n",
       "      <td>140.0</td>\n",
       "      <td>NaN</td>\n",
       "      <td>DEP CHIEF</td>\n",
       "      <td>NaN</td>\n",
       "      <td>MALE</td>\n",
       "      <td>BLACK</td>\n",
       "      <td>16-01</td>\n",
       "      <td>Yes</td>\n",
       "      <td>nan nan</td>\n",
       "    </tr>\n",
       "    <tr>\n",
       "      <th>1</th>\n",
       "      <td>2016-MAY</td>\n",
       "      <td>2016</td>\n",
       "      <td>No</td>\n",
       "      <td>NaN</td>\n",
       "      <td>NaN</td>\n",
       "      <td>18A</td>\n",
       "      <td>FIREARM DISCHARGE WITH HITS / ON DUTY</td>\n",
       "      <td>PENDING INVESTIGATION</td>\n",
       "      <td>1079080</td>\n",
       "      <td>735.0</td>\n",
       "      <td>...</td>\n",
       "      <td>ARNULFO</td>\n",
       "      <td>7.0</td>\n",
       "      <td>NaN</td>\n",
       "      <td>POLICE OFFICER</td>\n",
       "      <td>NaN</td>\n",
       "      <td>MALE</td>\n",
       "      <td>WHITE HISPANIC</td>\n",
       "      <td>16-01</td>\n",
       "      <td>Yes</td>\n",
       "      <td>nan nan</td>\n",
       "    </tr>\n",
       "    <tr>\n",
       "      <th>2</th>\n",
       "      <td>2016-MAY</td>\n",
       "      <td>2016</td>\n",
       "      <td>No</td>\n",
       "      <td>NaN</td>\n",
       "      <td>NaN</td>\n",
       "      <td>18A</td>\n",
       "      <td>FIREARM DISCHARGE WITH HITS / ON DUTY</td>\n",
       "      <td>PENDING INVESTIGATION</td>\n",
       "      <td>1079080</td>\n",
       "      <td>735.0</td>\n",
       "      <td>...</td>\n",
       "      <td>DAVID</td>\n",
       "      <td>7.0</td>\n",
       "      <td>NaN</td>\n",
       "      <td>POLICE OFFICER</td>\n",
       "      <td>NaN</td>\n",
       "      <td>MALE</td>\n",
       "      <td>WHITE HISPANIC</td>\n",
       "      <td>16-01</td>\n",
       "      <td>Yes</td>\n",
       "      <td>nan nan</td>\n",
       "    </tr>\n",
       "    <tr>\n",
       "      <th>3</th>\n",
       "      <td>2016-MAY</td>\n",
       "      <td>2016</td>\n",
       "      <td>No</td>\n",
       "      <td>NaN</td>\n",
       "      <td>NaN</td>\n",
       "      <td>18A</td>\n",
       "      <td>FIREARM DISCHARGE WITH HITS / ON DUTY</td>\n",
       "      <td>PENDING INVESTIGATION</td>\n",
       "      <td>1079080</td>\n",
       "      <td>735.0</td>\n",
       "      <td>...</td>\n",
       "      <td>CHARLES</td>\n",
       "      <td>NaN</td>\n",
       "      <td>NaN</td>\n",
       "      <td>UNKNOWN</td>\n",
       "      <td>29.0</td>\n",
       "      <td>MALE</td>\n",
       "      <td>BLACK</td>\n",
       "      <td>16-01</td>\n",
       "      <td>Yes</td>\n",
       "      <td>nan nan</td>\n",
       "    </tr>\n",
       "    <tr>\n",
       "      <th>4</th>\n",
       "      <td>2016-MAY</td>\n",
       "      <td>2016</td>\n",
       "      <td>No</td>\n",
       "      <td>NaN</td>\n",
       "      <td>NaN</td>\n",
       "      <td>18A</td>\n",
       "      <td>FIREARM DISCHARGE WITH HITS / ON DUTY</td>\n",
       "      <td>PENDING INVESTIGATION</td>\n",
       "      <td>1079080</td>\n",
       "      <td>735.0</td>\n",
       "      <td>...</td>\n",
       "      <td>CHARLES</td>\n",
       "      <td>NaN</td>\n",
       "      <td>NaN</td>\n",
       "      <td>UNKNOWN</td>\n",
       "      <td>30.0</td>\n",
       "      <td>MALE</td>\n",
       "      <td>BLACK</td>\n",
       "      <td>16-01</td>\n",
       "      <td>Yes</td>\n",
       "      <td>nan nan</td>\n",
       "    </tr>\n",
       "  </tbody>\n",
       "</table>\n",
       "<p>5 rows × 51 columns</p>\n",
       "</div>"
      ],
      "text/plain": [
       "     SOURCE  FILEYR CR_REQUIRED INITIAL_CATEGORY_CODE INITIAL_CATEGORY  \\\n",
       "0  2016-MAY    2016          No                   NaN              NaN   \n",
       "1  2016-MAY    2016          No                   NaN              NaN   \n",
       "2  2016-MAY    2016          No                   NaN              NaN   \n",
       "3  2016-MAY    2016          No                   NaN              NaN   \n",
       "4  2016-MAY    2016          No                   NaN              NaN   \n",
       "\n",
       "  CURRENT_CATEGORY_CODE                       CURRENT_CATEGORY  \\\n",
       "0                   18A  FIREARM DISCHARGE WITH HITS / ON DUTY   \n",
       "1                   18A  FIREARM DISCHARGE WITH HITS / ON DUTY   \n",
       "2                   18A  FIREARM DISCHARGE WITH HITS / ON DUTY   \n",
       "3                   18A  FIREARM DISCHARGE WITH HITS / ON DUTY   \n",
       "4                   18A  FIREARM DISCHARGE WITH HITS / ON DUTY   \n",
       "\n",
       "          CURRENT_STATUS  Complaint_Number   Beat       ...         \\\n",
       "0  PENDING INVESTIGATION           1079080  735.0       ...          \n",
       "1  PENDING INVESTIGATION           1079080  735.0       ...          \n",
       "2  PENDING INVESTIGATION           1079080  735.0       ...          \n",
       "3  PENDING INVESTIGATION           1079080  735.0       ...          \n",
       "4  PENDING INVESTIGATION           1079080  735.0       ...          \n",
       "\n",
       "  Invovled_Party_FName  Invovled_Party_Assignment Invovled_Party_Detail  \\\n",
       "0                 DANA                      140.0                   NaN   \n",
       "1              ARNULFO                        7.0                   NaN   \n",
       "2                DAVID                        7.0                   NaN   \n",
       "3              CHARLES                        NaN                   NaN   \n",
       "4              CHARLES                        NaN                   NaN   \n",
       "\n",
       "  Invovled_Party_Position Invovled_Party_Age Invovled_Party_Sex  \\\n",
       "0               DEP CHIEF                NaN               MALE   \n",
       "1          POLICE OFFICER                NaN               MALE   \n",
       "2          POLICE OFFICER                NaN               MALE   \n",
       "3                 UNKNOWN               29.0               MALE   \n",
       "4                 UNKNOWN               30.0               MALE   \n",
       "\n",
       "  Invovled_Party_Race POLICE_SHOOTING_NO POLICE_SHOOTING Accused-FullName  \n",
       "0               BLACK              16-01             Yes          nan nan  \n",
       "1      WHITE HISPANIC              16-01             Yes          nan nan  \n",
       "2      WHITE HISPANIC              16-01             Yes          nan nan  \n",
       "3               BLACK              16-01             Yes          nan nan  \n",
       "4               BLACK              16-01             Yes          nan nan  \n",
       "\n",
       "[5 rows x 51 columns]"
      ]
     },
     "execution_count": 13,
     "metadata": {},
     "output_type": "execute_result"
    }
   ],
   "source": [
    "df.head()"
   ]
  },
  {
   "cell_type": "code",
   "execution_count": 16,
   "metadata": {
    "collapsed": false
   },
   "outputs": [
    {
     "data": {
      "text/html": [
       "<div>\n",
       "<table border=\"1\" class=\"dataframe\">\n",
       "  <thead>\n",
       "    <tr style=\"text-align: right;\">\n",
       "      <th></th>\n",
       "      <th>Complaint_Number</th>\n",
       "      <th>Accused-FullName</th>\n",
       "    </tr>\n",
       "  </thead>\n",
       "  <tbody>\n",
       "    <tr>\n",
       "      <th>589</th>\n",
       "      <td>1077770</td>\n",
       "      <td>CATHERINE DOUBEK</td>\n",
       "    </tr>\n",
       "    <tr>\n",
       "      <th>590</th>\n",
       "      <td>1077770</td>\n",
       "      <td>CATHERINE DOUBEK</td>\n",
       "    </tr>\n",
       "    <tr>\n",
       "      <th>591</th>\n",
       "      <td>1077770</td>\n",
       "      <td>CATHERINE DOUBEK</td>\n",
       "    </tr>\n",
       "    <tr>\n",
       "      <th>592</th>\n",
       "      <td>1077770</td>\n",
       "      <td>CATHERINE DOUBEK</td>\n",
       "    </tr>\n",
       "    <tr>\n",
       "      <th>593</th>\n",
       "      <td>1077770</td>\n",
       "      <td>CATHERINE DOUBEK</td>\n",
       "    </tr>\n",
       "    <tr>\n",
       "      <th>594</th>\n",
       "      <td>1077770</td>\n",
       "      <td>CATHERINE DOUBEK</td>\n",
       "    </tr>\n",
       "    <tr>\n",
       "      <th>595</th>\n",
       "      <td>1073831</td>\n",
       "      <td>DANIEL GOON</td>\n",
       "    </tr>\n",
       "    <tr>\n",
       "      <th>596</th>\n",
       "      <td>1073831</td>\n",
       "      <td>DANIEL GOON</td>\n",
       "    </tr>\n",
       "    <tr>\n",
       "      <th>597</th>\n",
       "      <td>1073831</td>\n",
       "      <td>DANIEL GOON</td>\n",
       "    </tr>\n",
       "    <tr>\n",
       "      <th>598</th>\n",
       "      <td>1073831</td>\n",
       "      <td>DANIEL GOON</td>\n",
       "    </tr>\n",
       "  </tbody>\n",
       "</table>\n",
       "</div>"
      ],
      "text/plain": [
       "     Complaint_Number  Accused-FullName\n",
       "589           1077770  CATHERINE DOUBEK\n",
       "590           1077770  CATHERINE DOUBEK\n",
       "591           1077770  CATHERINE DOUBEK\n",
       "592           1077770  CATHERINE DOUBEK\n",
       "593           1077770  CATHERINE DOUBEK\n",
       "594           1077770  CATHERINE DOUBEK\n",
       "595           1073831       DANIEL GOON\n",
       "596           1073831       DANIEL GOON\n",
       "597           1073831       DANIEL GOON\n",
       "598           1073831       DANIEL GOON"
      ]
     },
     "execution_count": 16,
     "metadata": {},
     "output_type": "execute_result"
    }
   ],
   "source": [
    "# Make new dataframe with CRID and full-name of accused officer. \n",
    "# Drop rows where both first and last names are missing.\n",
    "df['Accused-FullName'] = df.apply(lambda x: str(x['Accused_FName']).strip() + ' ' + str(x['Accused_LName']).strip(),axis=1)\n",
    "df_fullname = df[df['Accused-FullName'] != 'nan nan'][['Complaint_Number','Accused-FullName']]\n",
    "df_fullname.head(10)"
   ]
  },
  {
   "cell_type": "code",
   "execution_count": 17,
   "metadata": {
    "collapsed": false
   },
   "outputs": [
    {
     "data": {
      "text/html": [
       "<div>\n",
       "<table border=\"1\" class=\"dataframe\">\n",
       "  <thead>\n",
       "    <tr style=\"text-align: right;\">\n",
       "      <th></th>\n",
       "      <th>Complaint_Number</th>\n",
       "      <th>Accused-FullName</th>\n",
       "    </tr>\n",
       "  </thead>\n",
       "  <tbody>\n",
       "    <tr>\n",
       "      <th>589</th>\n",
       "      <td>1077770</td>\n",
       "      <td>CATHERINE DOUBEK</td>\n",
       "    </tr>\n",
       "    <tr>\n",
       "      <th>595</th>\n",
       "      <td>1073831</td>\n",
       "      <td>DANIEL GOON</td>\n",
       "    </tr>\n",
       "    <tr>\n",
       "      <th>715</th>\n",
       "      <td>1073395</td>\n",
       "      <td>RAPHAEL MITCHEM</td>\n",
       "    </tr>\n",
       "    <tr>\n",
       "      <th>861</th>\n",
       "      <td>1073693</td>\n",
       "      <td>HARRY MATHEOS</td>\n",
       "    </tr>\n",
       "    <tr>\n",
       "      <th>870</th>\n",
       "      <td>1073693</td>\n",
       "      <td>JAIME GAETA</td>\n",
       "    </tr>\n",
       "    <tr>\n",
       "      <th>1581</th>\n",
       "      <td>1074934</td>\n",
       "      <td>ROTHIEL DAVIS</td>\n",
       "    </tr>\n",
       "    <tr>\n",
       "      <th>1648</th>\n",
       "      <td>1070029</td>\n",
       "      <td>ROBERT ONTIVEROS</td>\n",
       "    </tr>\n",
       "    <tr>\n",
       "      <th>3264</th>\n",
       "      <td>1069925</td>\n",
       "      <td>NILLION RANKIN</td>\n",
       "    </tr>\n",
       "    <tr>\n",
       "      <th>3894</th>\n",
       "      <td>1073132</td>\n",
       "      <td>DARRYL EDWARDS</td>\n",
       "    </tr>\n",
       "    <tr>\n",
       "      <th>4278</th>\n",
       "      <td>1072071</td>\n",
       "      <td>MARCO LEON</td>\n",
       "    </tr>\n",
       "  </tbody>\n",
       "</table>\n",
       "</div>"
      ],
      "text/plain": [
       "      Complaint_Number  Accused-FullName\n",
       "589            1077770  CATHERINE DOUBEK\n",
       "595            1073831       DANIEL GOON\n",
       "715            1073395   RAPHAEL MITCHEM\n",
       "861            1073693     HARRY MATHEOS\n",
       "870            1073693       JAIME GAETA\n",
       "1581           1074934     ROTHIEL DAVIS\n",
       "1648           1070029  ROBERT ONTIVEROS\n",
       "3264           1069925    NILLION RANKIN\n",
       "3894           1073132    DARRYL EDWARDS\n",
       "4278           1072071        MARCO LEON"
      ]
     },
     "execution_count": 17,
     "metadata": {},
     "output_type": "execute_result"
    }
   ],
   "source": [
    "# Get only (unique CRID, Name) pairs\n",
    "df_fullname = df_fullname.drop_duplicates()\n",
    "df_fullname.head(10)"
   ]
  },
  {
   "cell_type": "code",
   "execution_count": 25,
   "metadata": {
    "collapsed": false
   },
   "outputs": [
    {
     "name": "stdout",
     "output_type": "stream",
     "text": [
      "(30,)\n",
      "\n"
     ]
    },
    {
     "data": {
      "text/plain": [
       "Accused-FullName\n",
       "VIOLET REY            1\n",
       "TERRENCE PRATSCHER    1\n",
       "ANTHONY ROSEN         1\n",
       "CATHERINE DOUBEK      1\n",
       "CHARLES MEADOWS SR    1\n",
       "DANIEL CASTILLO       1\n",
       "DANIEL GOON           1\n",
       "DANIEL LOPEZ          1\n",
       "DANIEL SMITH          1\n",
       "DANIEL VAZQUEZ        1\n",
       "dtype: int64"
      ]
     },
     "execution_count": 25,
     "metadata": {},
     "output_type": "execute_result"
    }
   ],
   "source": [
    "counts_by_officer = df_fullname.groupby('Accused-FullName').size()\n",
    "\n",
    "print(counts_by_officer.shape)\n",
    "print()\n",
    "\n",
    "counts_by_officer.sort_values(ascending=False).head(10)"
   ]
  },
  {
   "cell_type": "code",
   "execution_count": 26,
   "metadata": {
    "collapsed": false
   },
   "outputs": [
    {
     "data": {
      "text/plain": [
       "count    30.0\n",
       "mean      1.0\n",
       "std       0.0\n",
       "min       1.0\n",
       "25%       1.0\n",
       "50%       1.0\n",
       "75%       1.0\n",
       "max       1.0\n",
       "dtype: float64"
      ]
     },
     "execution_count": 26,
     "metadata": {},
     "output_type": "execute_result"
    }
   ],
   "source": [
    "counts_by_officer.describe()"
   ]
  },
  {
   "cell_type": "code",
   "execution_count": 28,
   "metadata": {
    "collapsed": false
   },
   "outputs": [
    {
     "data": {
      "text/plain": [
       "30"
      ]
     },
     "execution_count": 28,
     "metadata": {},
     "output_type": "execute_result"
    }
   ],
   "source": [
    "df_fullname['Accused-FullName'].unique().size"
   ]
  },
  {
   "cell_type": "code",
   "execution_count": 29,
   "metadata": {
    "collapsed": false
   },
   "outputs": [
    {
     "data": {
      "text/plain": [
       "21"
      ]
     },
     "execution_count": 29,
     "metadata": {},
     "output_type": "execute_result"
    }
   ],
   "source": [
    "df_fullname['Complaint_Number'].unique().size"
   ]
  },
  {
   "cell_type": "code",
   "execution_count": null,
   "metadata": {
    "collapsed": true
   },
   "outputs": [],
   "source": []
  }
 ],
 "metadata": {
  "kernelspec": {
   "display_name": "Python 3",
   "language": "python",
   "name": "python3"
  },
  "language_info": {
   "codemirror_mode": {
    "name": "ipython",
    "version": 3
   },
   "file_extension": ".py",
   "mimetype": "text/x-python",
   "name": "python",
   "nbconvert_exporter": "python",
   "pygments_lexer": "ipython3",
   "version": "3.5.1"
  }
 },
 "nbformat": 4,
 "nbformat_minor": 0
}
